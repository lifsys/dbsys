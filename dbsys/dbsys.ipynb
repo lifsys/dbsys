{
 "cells": [
  {
   "cell_type": "code",
   "execution_count": 1,
   "metadata": {},
   "outputs": [],
   "source": [
    "from dbsys import DatabaseManager\n",
    "from locksys import Locksys\n",
    "DBCONNECT = Locksys().item(\"lifsysdb\").key(\"lifsysdb\").results()"
   ]
  },
  {
   "cell_type": "code",
   "execution_count": 2,
   "metadata": {},
   "outputs": [
    {
     "data": {
      "text/html": [
       "<div>\n",
       "<style scoped>\n",
       "    .dataframe tbody tr th:only-of-type {\n",
       "        vertical-align: middle;\n",
       "    }\n",
       "\n",
       "    .dataframe tbody tr th {\n",
       "        vertical-align: top;\n",
       "    }\n",
       "\n",
       "    .dataframe thead th {\n",
       "        text-align: right;\n",
       "    }\n",
       "</style>\n",
       "<table border=\"1\" class=\"dataframe\">\n",
       "  <thead>\n",
       "    <tr style=\"text-align: right;\">\n",
       "      <th></th>\n",
       "      <th>name</th>\n",
       "      <th>position_applied</th>\n",
       "      <th>location</th>\n",
       "      <th>salary_requirement</th>\n",
       "      <th>phone</th>\n",
       "      <th>email</th>\n",
       "      <th>address</th>\n",
       "      <th>education</th>\n",
       "      <th>certifications</th>\n",
       "      <th>clearance</th>\n",
       "      <th>...</th>\n",
       "      <th>Last</th>\n",
       "      <th>Middle</th>\n",
       "      <th>SUFFIX</th>\n",
       "      <th>assessment</th>\n",
       "      <th>LcatKey</th>\n",
       "      <th>LcatMatch</th>\n",
       "      <th>id</th>\n",
       "      <th>Applied</th>\n",
       "      <th>score</th>\n",
       "      <th>Suffix</th>\n",
       "    </tr>\n",
       "  </thead>\n",
       "  <tbody>\n",
       "    <tr>\n",
       "      <th>0</th>\n",
       "      <td>Jarod L. Woods</td>\n",
       "      <td>Schedule Analyst (SME)</td>\n",
       "      <td>Huntsville, AL</td>\n",
       "      <td>$140,000.00-$180,000.00</td>\n",
       "      <td>{\"+1 256-310-4418\"}</td>\n",
       "      <td>kc.woods@yahoo.com</td>\n",
       "      <td>207 SWEET BAY CT, HARVEST, AL 35749</td>\n",
       "      <td>[\"Bachelor of Science for Mechanical Engineeri...</td>\n",
       "      <td>[\"Certified Cost Professional\", \"Certified Ear...</td>\n",
       "      <td>[\"Secret\"]</td>\n",
       "      <td>...</td>\n",
       "      <td>Woods</td>\n",
       "      <td>L.</td>\n",
       "      <td></td>\n",
       "      <td>[{\"initial_impression\": {\"resume_overview\": \"T...</td>\n",
       "      <td>HQ085824C0002.SAS.HSV</td>\n",
       "      <td>Schedule Analyst (SME)</td>\n",
       "      <td>http://jobs.localjobnetwork.com/app/34505400/3...</td>\n",
       "      <td>8/8/2024</td>\n",
       "      <td>2</td>\n",
       "      <td>None</td>\n",
       "    </tr>\n",
       "  </tbody>\n",
       "</table>\n",
       "<p>1 rows × 23 columns</p>\n",
       "</div>"
      ],
      "text/plain": [
       "             name        position_applied        location  \\\n",
       "0  Jarod L. Woods  Schedule Analyst (SME)  Huntsville, AL   \n",
       "\n",
       "        salary_requirement                phone               email  \\\n",
       "0  $140,000.00-$180,000.00  {\"+1 256-310-4418\"}  kc.woods@yahoo.com   \n",
       "\n",
       "                               address  \\\n",
       "0  207 SWEET BAY CT, HARVEST, AL 35749   \n",
       "\n",
       "                                           education  \\\n",
       "0  [\"Bachelor of Science for Mechanical Engineeri...   \n",
       "\n",
       "                                      certifications   clearance  ...   Last  \\\n",
       "0  [\"Certified Cost Professional\", \"Certified Ear...  [\"Secret\"]  ...  Woods   \n",
       "\n",
       "  Middle SUFFIX                                         assessment  \\\n",
       "0     L.         [{\"initial_impression\": {\"resume_overview\": \"T...   \n",
       "\n",
       "                 LcatKey               LcatMatch  \\\n",
       "0  HQ085824C0002.SAS.HSV  Schedule Analyst (SME)   \n",
       "\n",
       "                                                  id   Applied score Suffix  \n",
       "0  http://jobs.localjobnetwork.com/app/34505400/3...  8/8/2024     2   None  \n",
       "\n",
       "[1 rows x 23 columns]"
      ]
     },
     "execution_count": 2,
     "metadata": {},
     "output_type": "execute_result"
    }
   ],
   "source": [
    "db_manager = DatabaseManager(DBCONNECT)\n",
    "result = db_manager.table(\"applicants\").search({\"name\": \"Jarod\"})\n",
    "result"
   ]
  },
  {
   "cell_type": "code",
   "execution_count": 5,
   "metadata": {},
   "outputs": [
    {
     "name": "stderr",
     "output_type": "stream",
     "text": [
      "INFO:dbsys:Received message on channel test_channel: START\n",
      "INFO:dbsys:Received message on channel test_channel: JURY\n"
     ]
    },
    {
     "name": "stdout",
     "output_type": "stream",
     "text": [
      "x\n"
     ]
    },
    {
     "name": "stderr",
     "output_type": "stream",
     "text": [
      "INFO:dbsys:Received close message: YOLO\n",
      "INFO:dbsys:Message handler loop ended\n"
     ]
    }
   ],
   "source": [
    "redis_url = \"redis://franz:6379/0\"\n",
    "db = DatabaseManager(redis_url)\n",
    "def test_func(x):\n",
    "    print(x)\n",
    "# Publish and subscribe\n",
    "dbpubs = (db\n",
    "          .execon(\"JURY\", test_func, \"x\")\n",
    "          .pubsub(\"START\", \"test_channel\", \"test_channel\", exiton=\"YOLO\")\n",
    ")"
   ]
  },
  {
   "cell_type": "code",
   "execution_count": null,
   "metadata": {},
   "outputs": [],
   "source": []
  }
 ],
 "metadata": {
  "kernelspec": {
   "display_name": "lab",
   "language": "python",
   "name": "python3"
  },
  "language_info": {
   "codemirror_mode": {
    "name": "ipython",
    "version": 3
   },
   "file_extension": ".py",
   "mimetype": "text/x-python",
   "name": "python",
   "nbconvert_exporter": "python",
   "pygments_lexer": "ipython3",
   "version": "3.11.0"
  }
 },
 "nbformat": 4,
 "nbformat_minor": 2
}
